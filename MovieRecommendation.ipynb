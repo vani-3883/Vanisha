{
  "nbformat": 4,
  "nbformat_minor": 0,
  "metadata": {
    "colab": {
      "name": "MovieRecommendation.ipynb",
      "provenance": [],
      "authorship_tag": "ABX9TyPSUrY5Cw2D6dk4eybhb+4E",
      "include_colab_link": true
    },
    "kernelspec": {
      "name": "python3",
      "display_name": "Python 3"
    }
  },
  "cells": [
    {
      "cell_type": "markdown",
      "metadata": {
        "id": "view-in-github",
        "colab_type": "text"
      },
      "source": [
        "<a href=\"https://colab.research.google.com/github/vani-3883/Vanisha/blob/master/MovieRecommendation.ipynb\" target=\"_parent\"><img src=\"https://colab.research.google.com/assets/colab-badge.svg\" alt=\"Open In Colab\"/></a>"
      ]
    },
    {
      "cell_type": "code",
      "metadata": {
        "id": "8oNbNF1LZfx2",
        "colab_type": "code",
        "colab": {}
      },
      "source": [
        "import pandas as pd"
      ],
      "execution_count": null,
      "outputs": []
    },
    {
      "cell_type": "code",
      "metadata": {
        "id": "6vSkiu7ZbifX",
        "colab_type": "code",
        "colab": {}
      },
      "source": [
        "movies=pd.read_csv('/content/movies_data.csv')"
      ],
      "execution_count": null,
      "outputs": []
    },
    {
      "cell_type": "code",
      "metadata": {
        "id": "-fxjFM6Hb6Vq",
        "colab_type": "code",
        "colab": {
          "base_uri": "https://localhost:8080/",
          "height": 285
        },
        "outputId": "d9217284-83e9-4c97-ad5d-b11418356a42"
      },
      "source": [
        "movies.head()"
      ],
      "execution_count": null,
      "outputs": [
        {
          "output_type": "execute_result",
          "data": {
            "text/html": [
              "<div>\n",
              "<style scoped>\n",
              "    .dataframe tbody tr th:only-of-type {\n",
              "        vertical-align: middle;\n",
              "    }\n",
              "\n",
              "    .dataframe tbody tr th {\n",
              "        vertical-align: top;\n",
              "    }\n",
              "\n",
              "    .dataframe thead th {\n",
              "        text-align: right;\n",
              "    }\n",
              "</style>\n",
              "<table border=\"1\" class=\"dataframe\">\n",
              "  <thead>\n",
              "    <tr style=\"text-align: right;\">\n",
              "      <th></th>\n",
              "      <th>genres</th>\n",
              "      <th>id</th>\n",
              "      <th>overview</th>\n",
              "      <th>title</th>\n",
              "    </tr>\n",
              "  </thead>\n",
              "  <tbody>\n",
              "    <tr>\n",
              "      <th>0</th>\n",
              "      <td>[{'id': 14, 'name': 'Fantasy'}, {'id': 35, 'na...</td>\n",
              "      <td>58372</td>\n",
              "      <td>On Christmas eve, a relentlessly cheerful woma...</td>\n",
              "      <td>Reckless</td>\n",
              "    </tr>\n",
              "    <tr>\n",
              "      <th>1</th>\n",
              "      <td>[{'id': 10749, 'name': 'Romance'}, {'id': 12, ...</td>\n",
              "      <td>278939</td>\n",
              "      <td>A runaway teenage girl and a drifter rob a ban...</td>\n",
              "      <td>Girl in the Cadillac</td>\n",
              "    </tr>\n",
              "    <tr>\n",
              "      <th>2</th>\n",
              "      <td>[{'id': 99, 'name': 'Documentary'}]</td>\n",
              "      <td>73183</td>\n",
              "      <td>The strange life and the wonderfully awful fil...</td>\n",
              "      <td>The Haunted World of Edward D. Wood, Jr.</td>\n",
              "    </tr>\n",
              "    <tr>\n",
              "      <th>3</th>\n",
              "      <td>[{'id': 99, 'name': 'Documentary'}]</td>\n",
              "      <td>255546</td>\n",
              "      <td>A biography of the Portuguese-Brazilian singer...</td>\n",
              "      <td>Carmen Miranda: Bananas Is My Business</td>\n",
              "    </tr>\n",
              "    <tr>\n",
              "      <th>4</th>\n",
              "      <td>[{'id': 18, 'name': 'Drama'}]</td>\n",
              "      <td>64562</td>\n",
              "      <td>Truman Capote's semi-autobiographical first no...</td>\n",
              "      <td>Other Voices Other Rooms</td>\n",
              "    </tr>\n",
              "  </tbody>\n",
              "</table>\n",
              "</div>"
            ],
            "text/plain": [
              "                                              genres  ...                                     title\n",
              "0  [{'id': 14, 'name': 'Fantasy'}, {'id': 35, 'na...  ...                                  Reckless\n",
              "1  [{'id': 10749, 'name': 'Romance'}, {'id': 12, ...  ...                      Girl in the Cadillac\n",
              "2                [{'id': 99, 'name': 'Documentary'}]  ...  The Haunted World of Edward D. Wood, Jr.\n",
              "3                [{'id': 99, 'name': 'Documentary'}]  ...    Carmen Miranda: Bananas Is My Business\n",
              "4                      [{'id': 18, 'name': 'Drama'}]  ...                  Other Voices Other Rooms\n",
              "\n",
              "[5 rows x 4 columns]"
            ]
          },
          "metadata": {
            "tags": []
          },
          "execution_count": 7
        }
      ]
    },
    {
      "cell_type": "code",
      "metadata": {
        "id": "EUVQWOgscnHi",
        "colab_type": "code",
        "colab": {
          "base_uri": "https://localhost:8080/",
          "height": 217
        },
        "outputId": "e8b39f5a-be7a-4ac7-b33b-1622fb2a1952"
      },
      "source": [
        "movies.info()"
      ],
      "execution_count": null,
      "outputs": [
        {
          "output_type": "stream",
          "text": [
            "<class 'pandas.core.frame.DataFrame'>\n",
            "RangeIndex: 30141 entries, 0 to 30140\n",
            "Data columns (total 4 columns):\n",
            " #   Column    Non-Null Count  Dtype \n",
            "---  ------    --------------  ----- \n",
            " 0   genres    30141 non-null  object\n",
            " 1   id        30141 non-null  int64 \n",
            " 2   overview  29640 non-null  object\n",
            " 3   title     30140 non-null  object\n",
            "dtypes: int64(1), object(3)\n",
            "memory usage: 942.0+ KB\n"
          ],
          "name": "stdout"
        }
      ]
    },
    {
      "cell_type": "code",
      "metadata": {
        "id": "gZ53ARdEiF_Y",
        "colab_type": "code",
        "colab": {}
      },
      "source": [
        "movies.dropna(inplace = True)"
      ],
      "execution_count": null,
      "outputs": []
    },
    {
      "cell_type": "code",
      "metadata": {
        "id": "wrqVQFenidVP",
        "colab_type": "code",
        "colab": {
          "base_uri": "https://localhost:8080/",
          "height": 217
        },
        "outputId": "dbed79d3-4071-43e2-a6a4-bf97accabd07"
      },
      "source": [
        "movies.info()"
      ],
      "execution_count": null,
      "outputs": [
        {
          "output_type": "stream",
          "text": [
            "<class 'pandas.core.frame.DataFrame'>\n",
            "Int64Index: 29639 entries, 0 to 30139\n",
            "Data columns (total 4 columns):\n",
            " #   Column    Non-Null Count  Dtype \n",
            "---  ------    --------------  ----- \n",
            " 0   genres    29639 non-null  object\n",
            " 1   id        29639 non-null  int64 \n",
            " 2   overview  29639 non-null  object\n",
            " 3   title     29639 non-null  object\n",
            "dtypes: int64(1), object(3)\n",
            "memory usage: 1.1+ MB\n"
          ],
          "name": "stdout"
        }
      ]
    },
    {
      "cell_type": "code",
      "metadata": {
        "id": "1QTObLu8ignF",
        "colab_type": "code",
        "colab": {}
      },
      "source": [
        "new_movies=movies[\"genres\"].str.split(\"}\", n = 1, expand = True) "
      ],
      "execution_count": null,
      "outputs": []
    },
    {
      "cell_type": "code",
      "metadata": {
        "id": "LMrMHasgi1Hv",
        "colab_type": "code",
        "colab": {
          "base_uri": "https://localhost:8080/",
          "height": 198
        },
        "outputId": "4ebd3930-86df-4f09-9beb-606335c43931"
      },
      "source": [
        "new_movies.head()"
      ],
      "execution_count": null,
      "outputs": [
        {
          "output_type": "execute_result",
          "data": {
            "text/html": [
              "<div>\n",
              "<style scoped>\n",
              "    .dataframe tbody tr th:only-of-type {\n",
              "        vertical-align: middle;\n",
              "    }\n",
              "\n",
              "    .dataframe tbody tr th {\n",
              "        vertical-align: top;\n",
              "    }\n",
              "\n",
              "    .dataframe thead th {\n",
              "        text-align: right;\n",
              "    }\n",
              "</style>\n",
              "<table border=\"1\" class=\"dataframe\">\n",
              "  <thead>\n",
              "    <tr style=\"text-align: right;\">\n",
              "      <th></th>\n",
              "      <th>0</th>\n",
              "      <th>1</th>\n",
              "    </tr>\n",
              "  </thead>\n",
              "  <tbody>\n",
              "    <tr>\n",
              "      <th>0</th>\n",
              "      <td>[{'id': 14, 'name': 'Fantasy'</td>\n",
              "      <td>, {'id': 35, 'name': 'Comedy'}, {'id': 18, 'na...</td>\n",
              "    </tr>\n",
              "    <tr>\n",
              "      <th>1</th>\n",
              "      <td>[{'id': 10749, 'name': 'Romance'</td>\n",
              "      <td>, {'id': 12, 'name': 'Adventure'}, {'id': 80, ...</td>\n",
              "    </tr>\n",
              "    <tr>\n",
              "      <th>2</th>\n",
              "      <td>[{'id': 99, 'name': 'Documentary'</td>\n",
              "      <td>]</td>\n",
              "    </tr>\n",
              "    <tr>\n",
              "      <th>3</th>\n",
              "      <td>[{'id': 99, 'name': 'Documentary'</td>\n",
              "      <td>]</td>\n",
              "    </tr>\n",
              "    <tr>\n",
              "      <th>4</th>\n",
              "      <td>[{'id': 18, 'name': 'Drama'</td>\n",
              "      <td>]</td>\n",
              "    </tr>\n",
              "  </tbody>\n",
              "</table>\n",
              "</div>"
            ],
            "text/plain": [
              "                                   0                                                  1\n",
              "0      [{'id': 14, 'name': 'Fantasy'  , {'id': 35, 'name': 'Comedy'}, {'id': 18, 'na...\n",
              "1   [{'id': 10749, 'name': 'Romance'  , {'id': 12, 'name': 'Adventure'}, {'id': 80, ...\n",
              "2  [{'id': 99, 'name': 'Documentary'                                                  ]\n",
              "3  [{'id': 99, 'name': 'Documentary'                                                  ]\n",
              "4        [{'id': 18, 'name': 'Drama'                                                  ]"
            ]
          },
          "metadata": {
            "tags": []
          },
          "execution_count": 12
        }
      ]
    },
    {
      "cell_type": "code",
      "metadata": {
        "id": "ZGkzTFhai-ZN",
        "colab_type": "code",
        "colab": {}
      },
      "source": [
        "movies['new_genres']=new_movies[0]"
      ],
      "execution_count": null,
      "outputs": []
    },
    {
      "cell_type": "code",
      "metadata": {
        "id": "OWa9Q4QQjc-p",
        "colab_type": "code",
        "colab": {
          "base_uri": "https://localhost:8080/",
          "height": 580
        },
        "outputId": "afc02592-40db-445c-c9c2-88ff43a4ab8a"
      },
      "source": [
        "movies"
      ],
      "execution_count": null,
      "outputs": [
        {
          "output_type": "execute_result",
          "data": {
            "text/html": [
              "<div>\n",
              "<style scoped>\n",
              "    .dataframe tbody tr th:only-of-type {\n",
              "        vertical-align: middle;\n",
              "    }\n",
              "\n",
              "    .dataframe tbody tr th {\n",
              "        vertical-align: top;\n",
              "    }\n",
              "\n",
              "    .dataframe thead th {\n",
              "        text-align: right;\n",
              "    }\n",
              "</style>\n",
              "<table border=\"1\" class=\"dataframe\">\n",
              "  <thead>\n",
              "    <tr style=\"text-align: right;\">\n",
              "      <th></th>\n",
              "      <th>genres</th>\n",
              "      <th>id</th>\n",
              "      <th>overview</th>\n",
              "      <th>title</th>\n",
              "      <th>new_genres</th>\n",
              "    </tr>\n",
              "  </thead>\n",
              "  <tbody>\n",
              "    <tr>\n",
              "      <th>0</th>\n",
              "      <td>[{'id': 14, 'name': 'Fantasy'}, {'id': 35, 'na...</td>\n",
              "      <td>58372</td>\n",
              "      <td>On Christmas eve, a relentlessly cheerful woma...</td>\n",
              "      <td>Reckless</td>\n",
              "      <td>[{'id': 14, 'name': 'Fantasy'</td>\n",
              "    </tr>\n",
              "    <tr>\n",
              "      <th>1</th>\n",
              "      <td>[{'id': 10749, 'name': 'Romance'}, {'id': 12, ...</td>\n",
              "      <td>278939</td>\n",
              "      <td>A runaway teenage girl and a drifter rob a ban...</td>\n",
              "      <td>Girl in the Cadillac</td>\n",
              "      <td>[{'id': 10749, 'name': 'Romance'</td>\n",
              "    </tr>\n",
              "    <tr>\n",
              "      <th>2</th>\n",
              "      <td>[{'id': 99, 'name': 'Documentary'}]</td>\n",
              "      <td>73183</td>\n",
              "      <td>The strange life and the wonderfully awful fil...</td>\n",
              "      <td>The Haunted World of Edward D. Wood, Jr.</td>\n",
              "      <td>[{'id': 99, 'name': 'Documentary'</td>\n",
              "    </tr>\n",
              "    <tr>\n",
              "      <th>3</th>\n",
              "      <td>[{'id': 99, 'name': 'Documentary'}]</td>\n",
              "      <td>255546</td>\n",
              "      <td>A biography of the Portuguese-Brazilian singer...</td>\n",
              "      <td>Carmen Miranda: Bananas Is My Business</td>\n",
              "      <td>[{'id': 99, 'name': 'Documentary'</td>\n",
              "    </tr>\n",
              "    <tr>\n",
              "      <th>4</th>\n",
              "      <td>[{'id': 18, 'name': 'Drama'}]</td>\n",
              "      <td>64562</td>\n",
              "      <td>Truman Capote's semi-autobiographical first no...</td>\n",
              "      <td>Other Voices Other Rooms</td>\n",
              "      <td>[{'id': 18, 'name': 'Drama'</td>\n",
              "    </tr>\n",
              "    <tr>\n",
              "      <th>...</th>\n",
              "      <td>...</td>\n",
              "      <td>...</td>\n",
              "      <td>...</td>\n",
              "      <td>...</td>\n",
              "      <td>...</td>\n",
              "    </tr>\n",
              "    <tr>\n",
              "      <th>30135</th>\n",
              "      <td>[{'id': 53, 'name': 'Thriller'}, {'id': 80, 'n...</td>\n",
              "      <td>131074</td>\n",
              "      <td>Violent fugitive and mistreated small boy team...</td>\n",
              "      <td>Hunted</td>\n",
              "      <td>[{'id': 53, 'name': 'Thriller'</td>\n",
              "    </tr>\n",
              "    <tr>\n",
              "      <th>30136</th>\n",
              "      <td>[{'id': 18, 'name': 'Drama'}, {'id': 10749, 'n...</td>\n",
              "      <td>95046</td>\n",
              "      <td>When visiting San Francisco, Tony Patucci, a a...</td>\n",
              "      <td>They Knew What They Wanted</td>\n",
              "      <td>[{'id': 18, 'name': 'Drama'</td>\n",
              "    </tr>\n",
              "    <tr>\n",
              "      <th>30137</th>\n",
              "      <td>[{'id': 18, 'name': 'Drama'}, {'id': 53, 'name...</td>\n",
              "      <td>305943</td>\n",
              "      <td>In 1960s New York, Walter Stackhouse is a succ...</td>\n",
              "      <td>A Kind of Murder</td>\n",
              "      <td>[{'id': 18, 'name': 'Drama'</td>\n",
              "    </tr>\n",
              "    <tr>\n",
              "      <th>30138</th>\n",
              "      <td>[{'id': 99, 'name': 'Documentary'}]</td>\n",
              "      <td>137619</td>\n",
              "      <td>This film turns on two basic axes: the inquiry...</td>\n",
              "      <td>Umbracle</td>\n",
              "      <td>[{'id': 99, 'name': 'Documentary'</td>\n",
              "    </tr>\n",
              "    <tr>\n",
              "      <th>30139</th>\n",
              "      <td>[{'id': 36, 'name': 'History'}, {'id': 99, 'na...</td>\n",
              "      <td>136058</td>\n",
              "      <td>Documentary about the US Communist Party and t...</td>\n",
              "      <td>Seeing Red: Stories of American Communists</td>\n",
              "      <td>[{'id': 36, 'name': 'History'</td>\n",
              "    </tr>\n",
              "  </tbody>\n",
              "</table>\n",
              "<p>29639 rows × 5 columns</p>\n",
              "</div>"
            ],
            "text/plain": [
              "                                                  genres  ...                         new_genres\n",
              "0      [{'id': 14, 'name': 'Fantasy'}, {'id': 35, 'na...  ...      [{'id': 14, 'name': 'Fantasy'\n",
              "1      [{'id': 10749, 'name': 'Romance'}, {'id': 12, ...  ...   [{'id': 10749, 'name': 'Romance'\n",
              "2                    [{'id': 99, 'name': 'Documentary'}]  ...  [{'id': 99, 'name': 'Documentary'\n",
              "3                    [{'id': 99, 'name': 'Documentary'}]  ...  [{'id': 99, 'name': 'Documentary'\n",
              "4                          [{'id': 18, 'name': 'Drama'}]  ...        [{'id': 18, 'name': 'Drama'\n",
              "...                                                  ...  ...                                ...\n",
              "30135  [{'id': 53, 'name': 'Thriller'}, {'id': 80, 'n...  ...     [{'id': 53, 'name': 'Thriller'\n",
              "30136  [{'id': 18, 'name': 'Drama'}, {'id': 10749, 'n...  ...        [{'id': 18, 'name': 'Drama'\n",
              "30137  [{'id': 18, 'name': 'Drama'}, {'id': 53, 'name...  ...        [{'id': 18, 'name': 'Drama'\n",
              "30138                [{'id': 99, 'name': 'Documentary'}]  ...  [{'id': 99, 'name': 'Documentary'\n",
              "30139  [{'id': 36, 'name': 'History'}, {'id': 99, 'na...  ...      [{'id': 36, 'name': 'History'\n",
              "\n",
              "[29639 rows x 5 columns]"
            ]
          },
          "metadata": {
            "tags": []
          },
          "execution_count": 14
        }
      ]
    },
    {
      "cell_type": "code",
      "metadata": {
        "id": "4syBudNNjfep",
        "colab_type": "code",
        "colab": {
          "base_uri": "https://localhost:8080/",
          "height": 580
        },
        "outputId": "34296fae-449d-450b-ac5a-7e0cc7898821"
      },
      "source": [
        "movies.drop(columns=['genres'])"
      ],
      "execution_count": null,
      "outputs": [
        {
          "output_type": "execute_result",
          "data": {
            "text/html": [
              "<div>\n",
              "<style scoped>\n",
              "    .dataframe tbody tr th:only-of-type {\n",
              "        vertical-align: middle;\n",
              "    }\n",
              "\n",
              "    .dataframe tbody tr th {\n",
              "        vertical-align: top;\n",
              "    }\n",
              "\n",
              "    .dataframe thead th {\n",
              "        text-align: right;\n",
              "    }\n",
              "</style>\n",
              "<table border=\"1\" class=\"dataframe\">\n",
              "  <thead>\n",
              "    <tr style=\"text-align: right;\">\n",
              "      <th></th>\n",
              "      <th>id</th>\n",
              "      <th>overview</th>\n",
              "      <th>title</th>\n",
              "      <th>new_genres</th>\n",
              "    </tr>\n",
              "  </thead>\n",
              "  <tbody>\n",
              "    <tr>\n",
              "      <th>0</th>\n",
              "      <td>58372</td>\n",
              "      <td>On Christmas eve, a relentlessly cheerful woma...</td>\n",
              "      <td>Reckless</td>\n",
              "      <td>[{'id': 14, 'name': 'Fantasy'</td>\n",
              "    </tr>\n",
              "    <tr>\n",
              "      <th>1</th>\n",
              "      <td>278939</td>\n",
              "      <td>A runaway teenage girl and a drifter rob a ban...</td>\n",
              "      <td>Girl in the Cadillac</td>\n",
              "      <td>[{'id': 10749, 'name': 'Romance'</td>\n",
              "    </tr>\n",
              "    <tr>\n",
              "      <th>2</th>\n",
              "      <td>73183</td>\n",
              "      <td>The strange life and the wonderfully awful fil...</td>\n",
              "      <td>The Haunted World of Edward D. Wood, Jr.</td>\n",
              "      <td>[{'id': 99, 'name': 'Documentary'</td>\n",
              "    </tr>\n",
              "    <tr>\n",
              "      <th>3</th>\n",
              "      <td>255546</td>\n",
              "      <td>A biography of the Portuguese-Brazilian singer...</td>\n",
              "      <td>Carmen Miranda: Bananas Is My Business</td>\n",
              "      <td>[{'id': 99, 'name': 'Documentary'</td>\n",
              "    </tr>\n",
              "    <tr>\n",
              "      <th>4</th>\n",
              "      <td>64562</td>\n",
              "      <td>Truman Capote's semi-autobiographical first no...</td>\n",
              "      <td>Other Voices Other Rooms</td>\n",
              "      <td>[{'id': 18, 'name': 'Drama'</td>\n",
              "    </tr>\n",
              "    <tr>\n",
              "      <th>...</th>\n",
              "      <td>...</td>\n",
              "      <td>...</td>\n",
              "      <td>...</td>\n",
              "      <td>...</td>\n",
              "    </tr>\n",
              "    <tr>\n",
              "      <th>30135</th>\n",
              "      <td>131074</td>\n",
              "      <td>Violent fugitive and mistreated small boy team...</td>\n",
              "      <td>Hunted</td>\n",
              "      <td>[{'id': 53, 'name': 'Thriller'</td>\n",
              "    </tr>\n",
              "    <tr>\n",
              "      <th>30136</th>\n",
              "      <td>95046</td>\n",
              "      <td>When visiting San Francisco, Tony Patucci, a a...</td>\n",
              "      <td>They Knew What They Wanted</td>\n",
              "      <td>[{'id': 18, 'name': 'Drama'</td>\n",
              "    </tr>\n",
              "    <tr>\n",
              "      <th>30137</th>\n",
              "      <td>305943</td>\n",
              "      <td>In 1960s New York, Walter Stackhouse is a succ...</td>\n",
              "      <td>A Kind of Murder</td>\n",
              "      <td>[{'id': 18, 'name': 'Drama'</td>\n",
              "    </tr>\n",
              "    <tr>\n",
              "      <th>30138</th>\n",
              "      <td>137619</td>\n",
              "      <td>This film turns on two basic axes: the inquiry...</td>\n",
              "      <td>Umbracle</td>\n",
              "      <td>[{'id': 99, 'name': 'Documentary'</td>\n",
              "    </tr>\n",
              "    <tr>\n",
              "      <th>30139</th>\n",
              "      <td>136058</td>\n",
              "      <td>Documentary about the US Communist Party and t...</td>\n",
              "      <td>Seeing Red: Stories of American Communists</td>\n",
              "      <td>[{'id': 36, 'name': 'History'</td>\n",
              "    </tr>\n",
              "  </tbody>\n",
              "</table>\n",
              "<p>29639 rows × 4 columns</p>\n",
              "</div>"
            ],
            "text/plain": [
              "           id  ...                         new_genres\n",
              "0       58372  ...      [{'id': 14, 'name': 'Fantasy'\n",
              "1      278939  ...   [{'id': 10749, 'name': 'Romance'\n",
              "2       73183  ...  [{'id': 99, 'name': 'Documentary'\n",
              "3      255546  ...  [{'id': 99, 'name': 'Documentary'\n",
              "4       64562  ...        [{'id': 18, 'name': 'Drama'\n",
              "...       ...  ...                                ...\n",
              "30135  131074  ...     [{'id': 53, 'name': 'Thriller'\n",
              "30136   95046  ...        [{'id': 18, 'name': 'Drama'\n",
              "30137  305943  ...        [{'id': 18, 'name': 'Drama'\n",
              "30138  137619  ...  [{'id': 99, 'name': 'Documentary'\n",
              "30139  136058  ...      [{'id': 36, 'name': 'History'\n",
              "\n",
              "[29639 rows x 4 columns]"
            ]
          },
          "metadata": {
            "tags": []
          },
          "execution_count": 15
        }
      ]
    },
    {
      "cell_type": "code",
      "metadata": {
        "id": "PsDtgjAdjp8y",
        "colab_type": "code",
        "colab": {}
      },
      "source": [
        "rating=pd.read_csv(\"/content/ratings.csv\")"
      ],
      "execution_count": null,
      "outputs": []
    },
    {
      "cell_type": "code",
      "metadata": {
        "id": "ECNIEiDvq3px",
        "colab_type": "code",
        "colab": {}
      },
      "source": [
        "#df=pd.concat([movies,rating])"
      ],
      "execution_count": null,
      "outputs": []
    },
    {
      "cell_type": "code",
      "metadata": {
        "id": "3yE0V5ClrcY4",
        "colab_type": "code",
        "colab": {}
      },
      "source": [
        "#df"
      ],
      "execution_count": null,
      "outputs": []
    },
    {
      "cell_type": "code",
      "metadata": {
        "id": "hWNcAbAJweo3",
        "colab_type": "code",
        "colab": {
          "base_uri": "https://localhost:8080/",
          "height": 199
        },
        "outputId": "3b9f9627-0d20-4c91-82a8-04fd794b4e1b"
      },
      "source": [
        "rating.info()"
      ],
      "execution_count": null,
      "outputs": [
        {
          "output_type": "stream",
          "text": [
            "<class 'pandas.core.frame.DataFrame'>\n",
            "RangeIndex: 100004 entries, 0 to 100003\n",
            "Data columns (total 3 columns):\n",
            " #   Column   Non-Null Count   Dtype  \n",
            "---  ------   --------------   -----  \n",
            " 0   userId   100004 non-null  int64  \n",
            " 1   movieId  100004 non-null  int64  \n",
            " 2   rating   100004 non-null  float64\n",
            "dtypes: float64(1), int64(2)\n",
            "memory usage: 2.3 MB\n"
          ],
          "name": "stdout"
        }
      ]
    },
    {
      "cell_type": "code",
      "metadata": {
        "id": "IgYpHKOHwmwd",
        "colab_type": "code",
        "colab": {
          "base_uri": "https://localhost:8080/",
          "height": 235
        },
        "outputId": "cc0a6cba-3983-4182-ba05-6f58e2309666"
      },
      "source": [
        "movies.info()"
      ],
      "execution_count": null,
      "outputs": [
        {
          "output_type": "stream",
          "text": [
            "<class 'pandas.core.frame.DataFrame'>\n",
            "Int64Index: 29639 entries, 0 to 30139\n",
            "Data columns (total 5 columns):\n",
            " #   Column      Non-Null Count  Dtype \n",
            "---  ------      --------------  ----- \n",
            " 0   genres      29639 non-null  object\n",
            " 1   id          29639 non-null  int64 \n",
            " 2   overview    29639 non-null  object\n",
            " 3   title       29639 non-null  object\n",
            " 4   new_genres  29639 non-null  object\n",
            "dtypes: int64(1), object(4)\n",
            "memory usage: 1.4+ MB\n"
          ],
          "name": "stdout"
        }
      ]
    },
    {
      "cell_type": "code",
      "metadata": {
        "id": "DQ8xY4r8wp7b",
        "colab_type": "code",
        "colab": {}
      },
      "source": [
        "movies=movies.reset_index(drop=True)\n",
        "movies[\"id\"] = pd.to_numeric(movies[\"id\"])"
      ],
      "execution_count": null,
      "outputs": []
    },
    {
      "cell_type": "code",
      "metadata": {
        "id": "Nmqp2CDcco2b",
        "colab_type": "code",
        "colab": {
          "base_uri": "https://localhost:8080/",
          "height": 235
        },
        "outputId": "4d6fda9a-2a04-416f-dd93-10be4cfa2723"
      },
      "source": [
        "movies.info()"
      ],
      "execution_count": null,
      "outputs": [
        {
          "output_type": "stream",
          "text": [
            "<class 'pandas.core.frame.DataFrame'>\n",
            "RangeIndex: 29639 entries, 0 to 29638\n",
            "Data columns (total 5 columns):\n",
            " #   Column      Non-Null Count  Dtype \n",
            "---  ------      --------------  ----- \n",
            " 0   genres      29639 non-null  object\n",
            " 1   id          29639 non-null  int64 \n",
            " 2   overview    29639 non-null  object\n",
            " 3   title       29639 non-null  object\n",
            " 4   new_genres  29639 non-null  object\n",
            "dtypes: int64(1), object(4)\n",
            "memory usage: 1.1+ MB\n"
          ],
          "name": "stdout"
        }
      ]
    },
    {
      "cell_type": "code",
      "metadata": {
        "id": "LTMN2edutROX",
        "colab_type": "code",
        "colab": {}
      },
      "source": [
        "df_merge = pd.merge(movies, rating, left_on='id', right_on='movieId')"
      ],
      "execution_count": null,
      "outputs": []
    },
    {
      "cell_type": "code",
      "metadata": {
        "id": "2JeB15-_vWXR",
        "colab_type": "code",
        "colab": {
          "base_uri": "https://localhost:8080/",
          "height": 753
        },
        "outputId": "902fe2f0-c73c-4b0d-ae81-3f6616093721"
      },
      "source": [
        "\n",
        "\n",
        "\n",
        "df_merge"
      ],
      "execution_count": null,
      "outputs": [
        {
          "output_type": "execute_result",
          "data": {
            "text/html": [
              "<div>\n",
              "<style scoped>\n",
              "    .dataframe tbody tr th:only-of-type {\n",
              "        vertical-align: middle;\n",
              "    }\n",
              "\n",
              "    .dataframe tbody tr th {\n",
              "        vertical-align: top;\n",
              "    }\n",
              "\n",
              "    .dataframe thead th {\n",
              "        text-align: right;\n",
              "    }\n",
              "</style>\n",
              "<table border=\"1\" class=\"dataframe\">\n",
              "  <thead>\n",
              "    <tr style=\"text-align: right;\">\n",
              "      <th></th>\n",
              "      <th>genres</th>\n",
              "      <th>id</th>\n",
              "      <th>overview</th>\n",
              "      <th>title</th>\n",
              "      <th>new_genres</th>\n",
              "      <th>userId</th>\n",
              "      <th>movieId</th>\n",
              "      <th>rating</th>\n",
              "    </tr>\n",
              "  </thead>\n",
              "  <tbody>\n",
              "    <tr>\n",
              "      <th>0</th>\n",
              "      <td>[{'id': 10770, 'name': 'TV Movie'}, {'id': 12,...</td>\n",
              "      <td>97593</td>\n",
              "      <td>Two adventurers set sail to find a giant man-e...</td>\n",
              "      <td>Shark Kill</td>\n",
              "      <td>[{'id': 10770, 'name': 'TV Movie'</td>\n",
              "      <td>262</td>\n",
              "      <td>97593</td>\n",
              "      <td>3.5</td>\n",
              "    </tr>\n",
              "    <tr>\n",
              "      <th>1</th>\n",
              "      <td>[{'id': 12, 'name': 'Adventure'}, {'id': 16, '...</td>\n",
              "      <td>1260</td>\n",
              "      <td>Somewhere in Europe by a great sea stands a sm...</td>\n",
              "      <td>Lotte from Gadgetville</td>\n",
              "      <td>[{'id': 12, 'name': 'Adventure'</td>\n",
              "      <td>19</td>\n",
              "      <td>1260</td>\n",
              "      <td>5.0</td>\n",
              "    </tr>\n",
              "    <tr>\n",
              "      <th>2</th>\n",
              "      <td>[{'id': 12, 'name': 'Adventure'}, {'id': 16, '...</td>\n",
              "      <td>1260</td>\n",
              "      <td>Somewhere in Europe by a great sea stands a sm...</td>\n",
              "      <td>Lotte from Gadgetville</td>\n",
              "      <td>[{'id': 12, 'name': 'Adventure'</td>\n",
              "      <td>102</td>\n",
              "      <td>1260</td>\n",
              "      <td>5.0</td>\n",
              "    </tr>\n",
              "    <tr>\n",
              "      <th>3</th>\n",
              "      <td>[{'id': 12, 'name': 'Adventure'}, {'id': 16, '...</td>\n",
              "      <td>1260</td>\n",
              "      <td>Somewhere in Europe by a great sea stands a sm...</td>\n",
              "      <td>Lotte from Gadgetville</td>\n",
              "      <td>[{'id': 12, 'name': 'Adventure'</td>\n",
              "      <td>236</td>\n",
              "      <td>1260</td>\n",
              "      <td>5.0</td>\n",
              "    </tr>\n",
              "    <tr>\n",
              "      <th>4</th>\n",
              "      <td>[{'id': 12, 'name': 'Adventure'}, {'id': 16, '...</td>\n",
              "      <td>1260</td>\n",
              "      <td>Somewhere in Europe by a great sea stands a sm...</td>\n",
              "      <td>Lotte from Gadgetville</td>\n",
              "      <td>[{'id': 12, 'name': 'Adventure'</td>\n",
              "      <td>468</td>\n",
              "      <td>1260</td>\n",
              "      <td>5.0</td>\n",
              "    </tr>\n",
              "    <tr>\n",
              "      <th>...</th>\n",
              "      <td>...</td>\n",
              "      <td>...</td>\n",
              "      <td>...</td>\n",
              "      <td>...</td>\n",
              "      <td>...</td>\n",
              "      <td>...</td>\n",
              "      <td>...</td>\n",
              "      <td>...</td>\n",
              "    </tr>\n",
              "    <tr>\n",
              "      <th>40410</th>\n",
              "      <td>[{'id': 18, 'name': 'Drama'}, {'id': 80, 'name...</td>\n",
              "      <td>40826</td>\n",
              "      <td>While in Havana, a musician gets involved with...</td>\n",
              "      <td>Affair in Havana</td>\n",
              "      <td>[{'id': 18, 'name': 'Drama'</td>\n",
              "      <td>547</td>\n",
              "      <td>40826</td>\n",
              "      <td>3.5</td>\n",
              "    </tr>\n",
              "    <tr>\n",
              "      <th>40411</th>\n",
              "      <td>[{'id': 18, 'name': 'Drama'}, {'id': 80, 'name...</td>\n",
              "      <td>40826</td>\n",
              "      <td>While in Havana, a musician gets involved with...</td>\n",
              "      <td>Affair in Havana</td>\n",
              "      <td>[{'id': 18, 'name': 'Drama'</td>\n",
              "      <td>382</td>\n",
              "      <td>40826</td>\n",
              "      <td>2.5</td>\n",
              "    </tr>\n",
              "    <tr>\n",
              "      <th>40412</th>\n",
              "      <td>[{'id': 18, 'name': 'Drama'}, {'id': 80, 'name...</td>\n",
              "      <td>40826</td>\n",
              "      <td>While in Havana, a musician gets involved with...</td>\n",
              "      <td>Affair in Havana</td>\n",
              "      <td>[{'id': 18, 'name': 'Drama'</td>\n",
              "      <td>367</td>\n",
              "      <td>40826</td>\n",
              "      <td>0.5</td>\n",
              "    </tr>\n",
              "    <tr>\n",
              "      <th>40413</th>\n",
              "      <td>[{'id': 18, 'name': 'Drama'}, {'id': 35, 'name...</td>\n",
              "      <td>64116</td>\n",
              "      <td>Reidar is a resident at Solihøgda psychiatric ...</td>\n",
              "      <td>Falling Sky</td>\n",
              "      <td>[{'id': 18, 'name': 'Drama'</td>\n",
              "      <td>213</td>\n",
              "      <td>64116</td>\n",
              "      <td>1.0</td>\n",
              "    </tr>\n",
              "    <tr>\n",
              "      <th>40414</th>\n",
              "      <td>[{'id': 80, 'name': 'Crime'}, {'id': 9648, 'na...</td>\n",
              "      <td>6103</td>\n",
              "      <td>Actress Jane Wilkinson wants a divorce, but he...</td>\n",
              "      <td>Thirteen at Dinner</td>\n",
              "      <td>[{'id': 80, 'name': 'Crime'</td>\n",
              "      <td>30</td>\n",
              "      <td>6103</td>\n",
              "      <td>2.0</td>\n",
              "    </tr>\n",
              "  </tbody>\n",
              "</table>\n",
              "<p>40415 rows × 8 columns</p>\n",
              "</div>"
            ],
            "text/plain": [
              "                                                  genres  ...  rating\n",
              "0      [{'id': 10770, 'name': 'TV Movie'}, {'id': 12,...  ...     3.5\n",
              "1      [{'id': 12, 'name': 'Adventure'}, {'id': 16, '...  ...     5.0\n",
              "2      [{'id': 12, 'name': 'Adventure'}, {'id': 16, '...  ...     5.0\n",
              "3      [{'id': 12, 'name': 'Adventure'}, {'id': 16, '...  ...     5.0\n",
              "4      [{'id': 12, 'name': 'Adventure'}, {'id': 16, '...  ...     5.0\n",
              "...                                                  ...  ...     ...\n",
              "40410  [{'id': 18, 'name': 'Drama'}, {'id': 80, 'name...  ...     3.5\n",
              "40411  [{'id': 18, 'name': 'Drama'}, {'id': 80, 'name...  ...     2.5\n",
              "40412  [{'id': 18, 'name': 'Drama'}, {'id': 80, 'name...  ...     0.5\n",
              "40413  [{'id': 18, 'name': 'Drama'}, {'id': 35, 'name...  ...     1.0\n",
              "40414  [{'id': 80, 'name': 'Crime'}, {'id': 9648, 'na...  ...     2.0\n",
              "\n",
              "[40415 rows x 8 columns]"
            ]
          },
          "metadata": {
            "tags": []
          },
          "execution_count": 24
        }
      ]
    },
    {
      "cell_type": "code",
      "metadata": {
        "id": "iL4-EgSU17_8",
        "colab_type": "code",
        "colab": {}
      },
      "source": [
        "df1=df_merge[\"new_genres\"].str.split(\":\", n = 2, expand = True) "
      ],
      "execution_count": null,
      "outputs": []
    },
    {
      "cell_type": "code",
      "metadata": {
        "id": "wxO_Mjrv2a6u",
        "colab_type": "code",
        "colab": {
          "base_uri": "https://localhost:8080/",
          "height": 407
        },
        "outputId": "1e166bc3-966a-49bd-cc43-c292ad6c12b1"
      },
      "source": [
        "df1"
      ],
      "execution_count": null,
      "outputs": [
        {
          "output_type": "execute_result",
          "data": {
            "text/html": [
              "<div>\n",
              "<style scoped>\n",
              "    .dataframe tbody tr th:only-of-type {\n",
              "        vertical-align: middle;\n",
              "    }\n",
              "\n",
              "    .dataframe tbody tr th {\n",
              "        vertical-align: top;\n",
              "    }\n",
              "\n",
              "    .dataframe thead th {\n",
              "        text-align: right;\n",
              "    }\n",
              "</style>\n",
              "<table border=\"1\" class=\"dataframe\">\n",
              "  <thead>\n",
              "    <tr style=\"text-align: right;\">\n",
              "      <th></th>\n",
              "      <th>0</th>\n",
              "      <th>1</th>\n",
              "      <th>2</th>\n",
              "    </tr>\n",
              "  </thead>\n",
              "  <tbody>\n",
              "    <tr>\n",
              "      <th>0</th>\n",
              "      <td>[{'id'</td>\n",
              "      <td>10770, 'name'</td>\n",
              "      <td>'TV Movie'</td>\n",
              "    </tr>\n",
              "    <tr>\n",
              "      <th>1</th>\n",
              "      <td>[{'id'</td>\n",
              "      <td>12, 'name'</td>\n",
              "      <td>'Adventure'</td>\n",
              "    </tr>\n",
              "    <tr>\n",
              "      <th>2</th>\n",
              "      <td>[{'id'</td>\n",
              "      <td>12, 'name'</td>\n",
              "      <td>'Adventure'</td>\n",
              "    </tr>\n",
              "    <tr>\n",
              "      <th>3</th>\n",
              "      <td>[{'id'</td>\n",
              "      <td>12, 'name'</td>\n",
              "      <td>'Adventure'</td>\n",
              "    </tr>\n",
              "    <tr>\n",
              "      <th>4</th>\n",
              "      <td>[{'id'</td>\n",
              "      <td>12, 'name'</td>\n",
              "      <td>'Adventure'</td>\n",
              "    </tr>\n",
              "    <tr>\n",
              "      <th>...</th>\n",
              "      <td>...</td>\n",
              "      <td>...</td>\n",
              "      <td>...</td>\n",
              "    </tr>\n",
              "    <tr>\n",
              "      <th>40410</th>\n",
              "      <td>[{'id'</td>\n",
              "      <td>18, 'name'</td>\n",
              "      <td>'Drama'</td>\n",
              "    </tr>\n",
              "    <tr>\n",
              "      <th>40411</th>\n",
              "      <td>[{'id'</td>\n",
              "      <td>18, 'name'</td>\n",
              "      <td>'Drama'</td>\n",
              "    </tr>\n",
              "    <tr>\n",
              "      <th>40412</th>\n",
              "      <td>[{'id'</td>\n",
              "      <td>18, 'name'</td>\n",
              "      <td>'Drama'</td>\n",
              "    </tr>\n",
              "    <tr>\n",
              "      <th>40413</th>\n",
              "      <td>[{'id'</td>\n",
              "      <td>18, 'name'</td>\n",
              "      <td>'Drama'</td>\n",
              "    </tr>\n",
              "    <tr>\n",
              "      <th>40414</th>\n",
              "      <td>[{'id'</td>\n",
              "      <td>80, 'name'</td>\n",
              "      <td>'Crime'</td>\n",
              "    </tr>\n",
              "  </tbody>\n",
              "</table>\n",
              "<p>40415 rows × 3 columns</p>\n",
              "</div>"
            ],
            "text/plain": [
              "            0               1             2\n",
              "0      [{'id'   10770, 'name'    'TV Movie'\n",
              "1      [{'id'      12, 'name'   'Adventure'\n",
              "2      [{'id'      12, 'name'   'Adventure'\n",
              "3      [{'id'      12, 'name'   'Adventure'\n",
              "4      [{'id'      12, 'name'   'Adventure'\n",
              "...       ...             ...           ...\n",
              "40410  [{'id'      18, 'name'       'Drama'\n",
              "40411  [{'id'      18, 'name'       'Drama'\n",
              "40412  [{'id'      18, 'name'       'Drama'\n",
              "40413  [{'id'      18, 'name'       'Drama'\n",
              "40414  [{'id'      80, 'name'       'Crime'\n",
              "\n",
              "[40415 rows x 3 columns]"
            ]
          },
          "metadata": {
            "tags": []
          },
          "execution_count": 26
        }
      ]
    },
    {
      "cell_type": "code",
      "metadata": {
        "id": "SiaQ48v32pf3",
        "colab_type": "code",
        "colab": {}
      },
      "source": [
        "df2=df1[2].str.split(\"'\", n = 2, expand = True) "
      ],
      "execution_count": null,
      "outputs": []
    },
    {
      "cell_type": "code",
      "metadata": {
        "id": "oAaXeTJJ27zF",
        "colab_type": "code",
        "colab": {
          "base_uri": "https://localhost:8080/",
          "height": 407
        },
        "outputId": "fe3672a6-fdf6-4ea8-ef81-0681d5ee9ad5"
      },
      "source": [
        "df2"
      ],
      "execution_count": null,
      "outputs": [
        {
          "output_type": "execute_result",
          "data": {
            "text/html": [
              "<div>\n",
              "<style scoped>\n",
              "    .dataframe tbody tr th:only-of-type {\n",
              "        vertical-align: middle;\n",
              "    }\n",
              "\n",
              "    .dataframe tbody tr th {\n",
              "        vertical-align: top;\n",
              "    }\n",
              "\n",
              "    .dataframe thead th {\n",
              "        text-align: right;\n",
              "    }\n",
              "</style>\n",
              "<table border=\"1\" class=\"dataframe\">\n",
              "  <thead>\n",
              "    <tr style=\"text-align: right;\">\n",
              "      <th></th>\n",
              "      <th>0</th>\n",
              "      <th>1</th>\n",
              "      <th>2</th>\n",
              "    </tr>\n",
              "  </thead>\n",
              "  <tbody>\n",
              "    <tr>\n",
              "      <th>0</th>\n",
              "      <td></td>\n",
              "      <td>TV Movie</td>\n",
              "      <td></td>\n",
              "    </tr>\n",
              "    <tr>\n",
              "      <th>1</th>\n",
              "      <td></td>\n",
              "      <td>Adventure</td>\n",
              "      <td></td>\n",
              "    </tr>\n",
              "    <tr>\n",
              "      <th>2</th>\n",
              "      <td></td>\n",
              "      <td>Adventure</td>\n",
              "      <td></td>\n",
              "    </tr>\n",
              "    <tr>\n",
              "      <th>3</th>\n",
              "      <td></td>\n",
              "      <td>Adventure</td>\n",
              "      <td></td>\n",
              "    </tr>\n",
              "    <tr>\n",
              "      <th>4</th>\n",
              "      <td></td>\n",
              "      <td>Adventure</td>\n",
              "      <td></td>\n",
              "    </tr>\n",
              "    <tr>\n",
              "      <th>...</th>\n",
              "      <td>...</td>\n",
              "      <td>...</td>\n",
              "      <td>...</td>\n",
              "    </tr>\n",
              "    <tr>\n",
              "      <th>40410</th>\n",
              "      <td></td>\n",
              "      <td>Drama</td>\n",
              "      <td></td>\n",
              "    </tr>\n",
              "    <tr>\n",
              "      <th>40411</th>\n",
              "      <td></td>\n",
              "      <td>Drama</td>\n",
              "      <td></td>\n",
              "    </tr>\n",
              "    <tr>\n",
              "      <th>40412</th>\n",
              "      <td></td>\n",
              "      <td>Drama</td>\n",
              "      <td></td>\n",
              "    </tr>\n",
              "    <tr>\n",
              "      <th>40413</th>\n",
              "      <td></td>\n",
              "      <td>Drama</td>\n",
              "      <td></td>\n",
              "    </tr>\n",
              "    <tr>\n",
              "      <th>40414</th>\n",
              "      <td></td>\n",
              "      <td>Crime</td>\n",
              "      <td></td>\n",
              "    </tr>\n",
              "  </tbody>\n",
              "</table>\n",
              "<p>40415 rows × 3 columns</p>\n",
              "</div>"
            ],
            "text/plain": [
              "       0          1 2 \n",
              "0          TV Movie   \n",
              "1         Adventure   \n",
              "2         Adventure   \n",
              "3         Adventure   \n",
              "4         Adventure   \n",
              "...   ..        ... ..\n",
              "40410         Drama   \n",
              "40411         Drama   \n",
              "40412         Drama   \n",
              "40413         Drama   \n",
              "40414         Crime   \n",
              "\n",
              "[40415 rows x 3 columns]"
            ]
          },
          "metadata": {
            "tags": []
          },
          "execution_count": 28
        }
      ]
    },
    {
      "cell_type": "code",
      "metadata": {
        "id": "BQuSZr7p2--c",
        "colab_type": "code",
        "colab": {}
      },
      "source": [
        "df_merge['Genres']=df2[1]\n"
      ],
      "execution_count": null,
      "outputs": []
    },
    {
      "cell_type": "code",
      "metadata": {
        "id": "sbBCy1Uh3RCs",
        "colab_type": "code",
        "colab": {
          "base_uri": "https://localhost:8080/",
          "height": 787
        },
        "outputId": "c9003b1e-7ade-43f9-94d8-1f5a3860bf23"
      },
      "source": [
        "df_merge"
      ],
      "execution_count": null,
      "outputs": [
        {
          "output_type": "execute_result",
          "data": {
            "text/html": [
              "<div>\n",
              "<style scoped>\n",
              "    .dataframe tbody tr th:only-of-type {\n",
              "        vertical-align: middle;\n",
              "    }\n",
              "\n",
              "    .dataframe tbody tr th {\n",
              "        vertical-align: top;\n",
              "    }\n",
              "\n",
              "    .dataframe thead th {\n",
              "        text-align: right;\n",
              "    }\n",
              "</style>\n",
              "<table border=\"1\" class=\"dataframe\">\n",
              "  <thead>\n",
              "    <tr style=\"text-align: right;\">\n",
              "      <th></th>\n",
              "      <th>genres</th>\n",
              "      <th>id</th>\n",
              "      <th>overview</th>\n",
              "      <th>title</th>\n",
              "      <th>new_genres</th>\n",
              "      <th>userId</th>\n",
              "      <th>movieId</th>\n",
              "      <th>rating</th>\n",
              "      <th>Genres</th>\n",
              "    </tr>\n",
              "  </thead>\n",
              "  <tbody>\n",
              "    <tr>\n",
              "      <th>0</th>\n",
              "      <td>[{'id': 10770, 'name': 'TV Movie'}, {'id': 12,...</td>\n",
              "      <td>97593</td>\n",
              "      <td>Two adventurers set sail to find a giant man-e...</td>\n",
              "      <td>Shark Kill</td>\n",
              "      <td>[{'id': 10770, 'name': 'TV Movie'</td>\n",
              "      <td>262</td>\n",
              "      <td>97593</td>\n",
              "      <td>3.5</td>\n",
              "      <td>TV Movie</td>\n",
              "    </tr>\n",
              "    <tr>\n",
              "      <th>1</th>\n",
              "      <td>[{'id': 12, 'name': 'Adventure'}, {'id': 16, '...</td>\n",
              "      <td>1260</td>\n",
              "      <td>Somewhere in Europe by a great sea stands a sm...</td>\n",
              "      <td>Lotte from Gadgetville</td>\n",
              "      <td>[{'id': 12, 'name': 'Adventure'</td>\n",
              "      <td>19</td>\n",
              "      <td>1260</td>\n",
              "      <td>5.0</td>\n",
              "      <td>Adventure</td>\n",
              "    </tr>\n",
              "    <tr>\n",
              "      <th>2</th>\n",
              "      <td>[{'id': 12, 'name': 'Adventure'}, {'id': 16, '...</td>\n",
              "      <td>1260</td>\n",
              "      <td>Somewhere in Europe by a great sea stands a sm...</td>\n",
              "      <td>Lotte from Gadgetville</td>\n",
              "      <td>[{'id': 12, 'name': 'Adventure'</td>\n",
              "      <td>102</td>\n",
              "      <td>1260</td>\n",
              "      <td>5.0</td>\n",
              "      <td>Adventure</td>\n",
              "    </tr>\n",
              "    <tr>\n",
              "      <th>3</th>\n",
              "      <td>[{'id': 12, 'name': 'Adventure'}, {'id': 16, '...</td>\n",
              "      <td>1260</td>\n",
              "      <td>Somewhere in Europe by a great sea stands a sm...</td>\n",
              "      <td>Lotte from Gadgetville</td>\n",
              "      <td>[{'id': 12, 'name': 'Adventure'</td>\n",
              "      <td>236</td>\n",
              "      <td>1260</td>\n",
              "      <td>5.0</td>\n",
              "      <td>Adventure</td>\n",
              "    </tr>\n",
              "    <tr>\n",
              "      <th>4</th>\n",
              "      <td>[{'id': 12, 'name': 'Adventure'}, {'id': 16, '...</td>\n",
              "      <td>1260</td>\n",
              "      <td>Somewhere in Europe by a great sea stands a sm...</td>\n",
              "      <td>Lotte from Gadgetville</td>\n",
              "      <td>[{'id': 12, 'name': 'Adventure'</td>\n",
              "      <td>468</td>\n",
              "      <td>1260</td>\n",
              "      <td>5.0</td>\n",
              "      <td>Adventure</td>\n",
              "    </tr>\n",
              "    <tr>\n",
              "      <th>...</th>\n",
              "      <td>...</td>\n",
              "      <td>...</td>\n",
              "      <td>...</td>\n",
              "      <td>...</td>\n",
              "      <td>...</td>\n",
              "      <td>...</td>\n",
              "      <td>...</td>\n",
              "      <td>...</td>\n",
              "      <td>...</td>\n",
              "    </tr>\n",
              "    <tr>\n",
              "      <th>40410</th>\n",
              "      <td>[{'id': 18, 'name': 'Drama'}, {'id': 80, 'name...</td>\n",
              "      <td>40826</td>\n",
              "      <td>While in Havana, a musician gets involved with...</td>\n",
              "      <td>Affair in Havana</td>\n",
              "      <td>[{'id': 18, 'name': 'Drama'</td>\n",
              "      <td>547</td>\n",
              "      <td>40826</td>\n",
              "      <td>3.5</td>\n",
              "      <td>Drama</td>\n",
              "    </tr>\n",
              "    <tr>\n",
              "      <th>40411</th>\n",
              "      <td>[{'id': 18, 'name': 'Drama'}, {'id': 80, 'name...</td>\n",
              "      <td>40826</td>\n",
              "      <td>While in Havana, a musician gets involved with...</td>\n",
              "      <td>Affair in Havana</td>\n",
              "      <td>[{'id': 18, 'name': 'Drama'</td>\n",
              "      <td>382</td>\n",
              "      <td>40826</td>\n",
              "      <td>2.5</td>\n",
              "      <td>Drama</td>\n",
              "    </tr>\n",
              "    <tr>\n",
              "      <th>40412</th>\n",
              "      <td>[{'id': 18, 'name': 'Drama'}, {'id': 80, 'name...</td>\n",
              "      <td>40826</td>\n",
              "      <td>While in Havana, a musician gets involved with...</td>\n",
              "      <td>Affair in Havana</td>\n",
              "      <td>[{'id': 18, 'name': 'Drama'</td>\n",
              "      <td>367</td>\n",
              "      <td>40826</td>\n",
              "      <td>0.5</td>\n",
              "      <td>Drama</td>\n",
              "    </tr>\n",
              "    <tr>\n",
              "      <th>40413</th>\n",
              "      <td>[{'id': 18, 'name': 'Drama'}, {'id': 35, 'name...</td>\n",
              "      <td>64116</td>\n",
              "      <td>Reidar is a resident at Solihøgda psychiatric ...</td>\n",
              "      <td>Falling Sky</td>\n",
              "      <td>[{'id': 18, 'name': 'Drama'</td>\n",
              "      <td>213</td>\n",
              "      <td>64116</td>\n",
              "      <td>1.0</td>\n",
              "      <td>Drama</td>\n",
              "    </tr>\n",
              "    <tr>\n",
              "      <th>40414</th>\n",
              "      <td>[{'id': 80, 'name': 'Crime'}, {'id': 9648, 'na...</td>\n",
              "      <td>6103</td>\n",
              "      <td>Actress Jane Wilkinson wants a divorce, but he...</td>\n",
              "      <td>Thirteen at Dinner</td>\n",
              "      <td>[{'id': 80, 'name': 'Crime'</td>\n",
              "      <td>30</td>\n",
              "      <td>6103</td>\n",
              "      <td>2.0</td>\n",
              "      <td>Crime</td>\n",
              "    </tr>\n",
              "  </tbody>\n",
              "</table>\n",
              "<p>40415 rows × 9 columns</p>\n",
              "</div>"
            ],
            "text/plain": [
              "                                                  genres  ...     Genres\n",
              "0      [{'id': 10770, 'name': 'TV Movie'}, {'id': 12,...  ...   TV Movie\n",
              "1      [{'id': 12, 'name': 'Adventure'}, {'id': 16, '...  ...  Adventure\n",
              "2      [{'id': 12, 'name': 'Adventure'}, {'id': 16, '...  ...  Adventure\n",
              "3      [{'id': 12, 'name': 'Adventure'}, {'id': 16, '...  ...  Adventure\n",
              "4      [{'id': 12, 'name': 'Adventure'}, {'id': 16, '...  ...  Adventure\n",
              "...                                                  ...  ...        ...\n",
              "40410  [{'id': 18, 'name': 'Drama'}, {'id': 80, 'name...  ...      Drama\n",
              "40411  [{'id': 18, 'name': 'Drama'}, {'id': 80, 'name...  ...      Drama\n",
              "40412  [{'id': 18, 'name': 'Drama'}, {'id': 80, 'name...  ...      Drama\n",
              "40413  [{'id': 18, 'name': 'Drama'}, {'id': 35, 'name...  ...      Drama\n",
              "40414  [{'id': 80, 'name': 'Crime'}, {'id': 9648, 'na...  ...      Crime\n",
              "\n",
              "[40415 rows x 9 columns]"
            ]
          },
          "metadata": {
            "tags": []
          },
          "execution_count": 30
        }
      ]
    },
    {
      "cell_type": "code",
      "metadata": {
        "id": "KHYEcit73z9w",
        "colab_type": "code",
        "colab": {
          "base_uri": "https://localhost:8080/",
          "height": 580
        },
        "outputId": "8bf27545-5bf1-4dcc-aeff-80a1fffdf490"
      },
      "source": [
        "\n",
        "df_merge.drop(columns=['genres'])"
      ],
      "execution_count": null,
      "outputs": [
        {
          "output_type": "execute_result",
          "data": {
            "text/html": [
              "<div>\n",
              "<style scoped>\n",
              "    .dataframe tbody tr th:only-of-type {\n",
              "        vertical-align: middle;\n",
              "    }\n",
              "\n",
              "    .dataframe tbody tr th {\n",
              "        vertical-align: top;\n",
              "    }\n",
              "\n",
              "    .dataframe thead th {\n",
              "        text-align: right;\n",
              "    }\n",
              "</style>\n",
              "<table border=\"1\" class=\"dataframe\">\n",
              "  <thead>\n",
              "    <tr style=\"text-align: right;\">\n",
              "      <th></th>\n",
              "      <th>id</th>\n",
              "      <th>overview</th>\n",
              "      <th>title</th>\n",
              "      <th>new_genres</th>\n",
              "      <th>userId</th>\n",
              "      <th>movieId</th>\n",
              "      <th>rating</th>\n",
              "      <th>Genres</th>\n",
              "    </tr>\n",
              "  </thead>\n",
              "  <tbody>\n",
              "    <tr>\n",
              "      <th>0</th>\n",
              "      <td>97593</td>\n",
              "      <td>Two adventurers set sail to find a giant man-e...</td>\n",
              "      <td>Shark Kill</td>\n",
              "      <td>[{'id': 10770, 'name': 'TV Movie'</td>\n",
              "      <td>262</td>\n",
              "      <td>97593</td>\n",
              "      <td>3.5</td>\n",
              "      <td>TV Movie</td>\n",
              "    </tr>\n",
              "    <tr>\n",
              "      <th>1</th>\n",
              "      <td>1260</td>\n",
              "      <td>Somewhere in Europe by a great sea stands a sm...</td>\n",
              "      <td>Lotte from Gadgetville</td>\n",
              "      <td>[{'id': 12, 'name': 'Adventure'</td>\n",
              "      <td>19</td>\n",
              "      <td>1260</td>\n",
              "      <td>5.0</td>\n",
              "      <td>Adventure</td>\n",
              "    </tr>\n",
              "    <tr>\n",
              "      <th>2</th>\n",
              "      <td>1260</td>\n",
              "      <td>Somewhere in Europe by a great sea stands a sm...</td>\n",
              "      <td>Lotte from Gadgetville</td>\n",
              "      <td>[{'id': 12, 'name': 'Adventure'</td>\n",
              "      <td>102</td>\n",
              "      <td>1260</td>\n",
              "      <td>5.0</td>\n",
              "      <td>Adventure</td>\n",
              "    </tr>\n",
              "    <tr>\n",
              "      <th>3</th>\n",
              "      <td>1260</td>\n",
              "      <td>Somewhere in Europe by a great sea stands a sm...</td>\n",
              "      <td>Lotte from Gadgetville</td>\n",
              "      <td>[{'id': 12, 'name': 'Adventure'</td>\n",
              "      <td>236</td>\n",
              "      <td>1260</td>\n",
              "      <td>5.0</td>\n",
              "      <td>Adventure</td>\n",
              "    </tr>\n",
              "    <tr>\n",
              "      <th>4</th>\n",
              "      <td>1260</td>\n",
              "      <td>Somewhere in Europe by a great sea stands a sm...</td>\n",
              "      <td>Lotte from Gadgetville</td>\n",
              "      <td>[{'id': 12, 'name': 'Adventure'</td>\n",
              "      <td>468</td>\n",
              "      <td>1260</td>\n",
              "      <td>5.0</td>\n",
              "      <td>Adventure</td>\n",
              "    </tr>\n",
              "    <tr>\n",
              "      <th>...</th>\n",
              "      <td>...</td>\n",
              "      <td>...</td>\n",
              "      <td>...</td>\n",
              "      <td>...</td>\n",
              "      <td>...</td>\n",
              "      <td>...</td>\n",
              "      <td>...</td>\n",
              "      <td>...</td>\n",
              "    </tr>\n",
              "    <tr>\n",
              "      <th>40410</th>\n",
              "      <td>40826</td>\n",
              "      <td>While in Havana, a musician gets involved with...</td>\n",
              "      <td>Affair in Havana</td>\n",
              "      <td>[{'id': 18, 'name': 'Drama'</td>\n",
              "      <td>547</td>\n",
              "      <td>40826</td>\n",
              "      <td>3.5</td>\n",
              "      <td>Drama</td>\n",
              "    </tr>\n",
              "    <tr>\n",
              "      <th>40411</th>\n",
              "      <td>40826</td>\n",
              "      <td>While in Havana, a musician gets involved with...</td>\n",
              "      <td>Affair in Havana</td>\n",
              "      <td>[{'id': 18, 'name': 'Drama'</td>\n",
              "      <td>382</td>\n",
              "      <td>40826</td>\n",
              "      <td>2.5</td>\n",
              "      <td>Drama</td>\n",
              "    </tr>\n",
              "    <tr>\n",
              "      <th>40412</th>\n",
              "      <td>40826</td>\n",
              "      <td>While in Havana, a musician gets involved with...</td>\n",
              "      <td>Affair in Havana</td>\n",
              "      <td>[{'id': 18, 'name': 'Drama'</td>\n",
              "      <td>367</td>\n",
              "      <td>40826</td>\n",
              "      <td>0.5</td>\n",
              "      <td>Drama</td>\n",
              "    </tr>\n",
              "    <tr>\n",
              "      <th>40413</th>\n",
              "      <td>64116</td>\n",
              "      <td>Reidar is a resident at Solihøgda psychiatric ...</td>\n",
              "      <td>Falling Sky</td>\n",
              "      <td>[{'id': 18, 'name': 'Drama'</td>\n",
              "      <td>213</td>\n",
              "      <td>64116</td>\n",
              "      <td>1.0</td>\n",
              "      <td>Drama</td>\n",
              "    </tr>\n",
              "    <tr>\n",
              "      <th>40414</th>\n",
              "      <td>6103</td>\n",
              "      <td>Actress Jane Wilkinson wants a divorce, but he...</td>\n",
              "      <td>Thirteen at Dinner</td>\n",
              "      <td>[{'id': 80, 'name': 'Crime'</td>\n",
              "      <td>30</td>\n",
              "      <td>6103</td>\n",
              "      <td>2.0</td>\n",
              "      <td>Crime</td>\n",
              "    </tr>\n",
              "  </tbody>\n",
              "</table>\n",
              "<p>40415 rows × 8 columns</p>\n",
              "</div>"
            ],
            "text/plain": [
              "          id  ...     Genres\n",
              "0      97593  ...   TV Movie\n",
              "1       1260  ...  Adventure\n",
              "2       1260  ...  Adventure\n",
              "3       1260  ...  Adventure\n",
              "4       1260  ...  Adventure\n",
              "...      ...  ...        ...\n",
              "40410  40826  ...      Drama\n",
              "40411  40826  ...      Drama\n",
              "40412  40826  ...      Drama\n",
              "40413  64116  ...      Drama\n",
              "40414   6103  ...      Crime\n",
              "\n",
              "[40415 rows x 8 columns]"
            ]
          },
          "metadata": {
            "tags": []
          },
          "execution_count": 31
        }
      ]
    },
    {
      "cell_type": "code",
      "metadata": {
        "id": "TcqKVArc37yb",
        "colab_type": "code",
        "colab": {}
      },
      "source": [
        "\n",
        "\n",
        "df_final=df_merge.drop(columns=['new_genres','genres'])"
      ],
      "execution_count": null,
      "outputs": []
    },
    {
      "cell_type": "code",
      "metadata": {
        "id": "PsmtYYS-4LCg",
        "colab_type": "code",
        "colab": {
          "base_uri": "https://localhost:8080/",
          "height": 563
        },
        "outputId": "30caee58-0fe2-4e58-bc64-704ed4eddff0"
      },
      "source": [
        "df_final"
      ],
      "execution_count": null,
      "outputs": [
        {
          "output_type": "execute_result",
          "data": {
            "text/html": [
              "<div>\n",
              "<style scoped>\n",
              "    .dataframe tbody tr th:only-of-type {\n",
              "        vertical-align: middle;\n",
              "    }\n",
              "\n",
              "    .dataframe tbody tr th {\n",
              "        vertical-align: top;\n",
              "    }\n",
              "\n",
              "    .dataframe thead th {\n",
              "        text-align: right;\n",
              "    }\n",
              "</style>\n",
              "<table border=\"1\" class=\"dataframe\">\n",
              "  <thead>\n",
              "    <tr style=\"text-align: right;\">\n",
              "      <th></th>\n",
              "      <th>id</th>\n",
              "      <th>overview</th>\n",
              "      <th>title</th>\n",
              "      <th>userId</th>\n",
              "      <th>movieId</th>\n",
              "      <th>rating</th>\n",
              "      <th>Genres</th>\n",
              "    </tr>\n",
              "  </thead>\n",
              "  <tbody>\n",
              "    <tr>\n",
              "      <th>0</th>\n",
              "      <td>97593</td>\n",
              "      <td>Two adventurers set sail to find a giant man-e...</td>\n",
              "      <td>Shark Kill</td>\n",
              "      <td>262</td>\n",
              "      <td>97593</td>\n",
              "      <td>3.5</td>\n",
              "      <td>TV Movie</td>\n",
              "    </tr>\n",
              "    <tr>\n",
              "      <th>1</th>\n",
              "      <td>1260</td>\n",
              "      <td>Somewhere in Europe by a great sea stands a sm...</td>\n",
              "      <td>Lotte from Gadgetville</td>\n",
              "      <td>19</td>\n",
              "      <td>1260</td>\n",
              "      <td>5.0</td>\n",
              "      <td>Adventure</td>\n",
              "    </tr>\n",
              "    <tr>\n",
              "      <th>2</th>\n",
              "      <td>1260</td>\n",
              "      <td>Somewhere in Europe by a great sea stands a sm...</td>\n",
              "      <td>Lotte from Gadgetville</td>\n",
              "      <td>102</td>\n",
              "      <td>1260</td>\n",
              "      <td>5.0</td>\n",
              "      <td>Adventure</td>\n",
              "    </tr>\n",
              "    <tr>\n",
              "      <th>3</th>\n",
              "      <td>1260</td>\n",
              "      <td>Somewhere in Europe by a great sea stands a sm...</td>\n",
              "      <td>Lotte from Gadgetville</td>\n",
              "      <td>236</td>\n",
              "      <td>1260</td>\n",
              "      <td>5.0</td>\n",
              "      <td>Adventure</td>\n",
              "    </tr>\n",
              "    <tr>\n",
              "      <th>4</th>\n",
              "      <td>1260</td>\n",
              "      <td>Somewhere in Europe by a great sea stands a sm...</td>\n",
              "      <td>Lotte from Gadgetville</td>\n",
              "      <td>468</td>\n",
              "      <td>1260</td>\n",
              "      <td>5.0</td>\n",
              "      <td>Adventure</td>\n",
              "    </tr>\n",
              "    <tr>\n",
              "      <th>...</th>\n",
              "      <td>...</td>\n",
              "      <td>...</td>\n",
              "      <td>...</td>\n",
              "      <td>...</td>\n",
              "      <td>...</td>\n",
              "      <td>...</td>\n",
              "      <td>...</td>\n",
              "    </tr>\n",
              "    <tr>\n",
              "      <th>40410</th>\n",
              "      <td>40826</td>\n",
              "      <td>While in Havana, a musician gets involved with...</td>\n",
              "      <td>Affair in Havana</td>\n",
              "      <td>547</td>\n",
              "      <td>40826</td>\n",
              "      <td>3.5</td>\n",
              "      <td>Drama</td>\n",
              "    </tr>\n",
              "    <tr>\n",
              "      <th>40411</th>\n",
              "      <td>40826</td>\n",
              "      <td>While in Havana, a musician gets involved with...</td>\n",
              "      <td>Affair in Havana</td>\n",
              "      <td>382</td>\n",
              "      <td>40826</td>\n",
              "      <td>2.5</td>\n",
              "      <td>Drama</td>\n",
              "    </tr>\n",
              "    <tr>\n",
              "      <th>40412</th>\n",
              "      <td>40826</td>\n",
              "      <td>While in Havana, a musician gets involved with...</td>\n",
              "      <td>Affair in Havana</td>\n",
              "      <td>367</td>\n",
              "      <td>40826</td>\n",
              "      <td>0.5</td>\n",
              "      <td>Drama</td>\n",
              "    </tr>\n",
              "    <tr>\n",
              "      <th>40413</th>\n",
              "      <td>64116</td>\n",
              "      <td>Reidar is a resident at Solihøgda psychiatric ...</td>\n",
              "      <td>Falling Sky</td>\n",
              "      <td>213</td>\n",
              "      <td>64116</td>\n",
              "      <td>1.0</td>\n",
              "      <td>Drama</td>\n",
              "    </tr>\n",
              "    <tr>\n",
              "      <th>40414</th>\n",
              "      <td>6103</td>\n",
              "      <td>Actress Jane Wilkinson wants a divorce, but he...</td>\n",
              "      <td>Thirteen at Dinner</td>\n",
              "      <td>30</td>\n",
              "      <td>6103</td>\n",
              "      <td>2.0</td>\n",
              "      <td>Crime</td>\n",
              "    </tr>\n",
              "  </tbody>\n",
              "</table>\n",
              "<p>40415 rows × 7 columns</p>\n",
              "</div>"
            ],
            "text/plain": [
              "          id  ...     Genres\n",
              "0      97593  ...   TV Movie\n",
              "1       1260  ...  Adventure\n",
              "2       1260  ...  Adventure\n",
              "3       1260  ...  Adventure\n",
              "4       1260  ...  Adventure\n",
              "...      ...  ...        ...\n",
              "40410  40826  ...      Drama\n",
              "40411  40826  ...      Drama\n",
              "40412  40826  ...      Drama\n",
              "40413  64116  ...      Drama\n",
              "40414   6103  ...      Crime\n",
              "\n",
              "[40415 rows x 7 columns]"
            ]
          },
          "metadata": {
            "tags": []
          },
          "execution_count": 33
        }
      ]
    },
    {
      "cell_type": "code",
      "metadata": {
        "id": "fUEp4RlrzA16",
        "colab_type": "code",
        "colab": {}
      },
      "source": [
        "y=df_final['rating']"
      ],
      "execution_count": null,
      "outputs": []
    },
    {
      "cell_type": "code",
      "metadata": {
        "id": "fZHqUlhZzXQ8",
        "colab_type": "code",
        "colab": {}
      },
      "source": [
        "from sklearn.model_selection import train_test_split\n",
        "from sklearn.linear_model import LinearRegression"
      ],
      "execution_count": null,
      "outputs": []
    },
    {
      "cell_type": "code",
      "metadata": {
        "id": "22hzIM0izep-",
        "colab_type": "code",
        "colab": {}
      },
      "source": [
        "model2=LinearRegression()"
      ],
      "execution_count": null,
      "outputs": []
    },
    {
      "cell_type": "code",
      "metadata": {
        "id": "FoCz_y1nzwhC",
        "colab_type": "code",
        "colab": {}
      },
      "source": [
        "train_test_split?"
      ],
      "execution_count": null,
      "outputs": []
    },
    {
      "cell_type": "code",
      "metadata": {
        "id": "ZMd6_aJgz9YY",
        "colab_type": "code",
        "colab": {}
      },
      "source": [
        "\n",
        "from sklearn.preprocessing import LabelEncoder"
      ],
      "execution_count": null,
      "outputs": []
    },
    {
      "cell_type": "code",
      "metadata": {
        "id": "2QsZ1nkk677o",
        "colab_type": "code",
        "colab": {}
      },
      "source": [
        "import numpy as np"
      ],
      "execution_count": null,
      "outputs": []
    },
    {
      "cell_type": "code",
      "metadata": {
        "id": "iND8NtFc_eJC",
        "colab_type": "code",
        "colab": {}
      },
      "source": [
        "df_final[\"Genres\"] = df_final[\"Genres\"].replace(np.nan, 'none', regex=True)"
      ],
      "execution_count": null,
      "outputs": []
    },
    {
      "cell_type": "code",
      "metadata": {
        "id": "cA_Fxry20FHs",
        "colab_type": "code",
        "colab": {}
      },
      "source": [
        "\n",
        "le=LabelEncoder()"
      ],
      "execution_count": null,
      "outputs": []
    },
    {
      "cell_type": "code",
      "metadata": {
        "id": "EUtpIA6i5mvY",
        "colab_type": "code",
        "colab": {}
      },
      "source": [
        "df_final[\"Genres\"] = le.fit_transform(df_final[\"Genres\"])"
      ],
      "execution_count": null,
      "outputs": []
    },
    {
      "cell_type": "code",
      "metadata": {
        "id": "4HHBdBr252cR",
        "colab_type": "code",
        "colab": {
          "base_uri": "https://localhost:8080/",
          "height": 90
        },
        "outputId": "13e433f8-8f27-4572-9913-33cdd464f297"
      },
      "source": [
        "le.classes_"
      ],
      "execution_count": null,
      "outputs": [
        {
          "output_type": "execute_result",
          "data": {
            "text/plain": [
              "array(['Action', 'Adventure', 'Animation', 'Comedy', 'Crime',\n",
              "       'Documentary', 'Drama', 'Family', 'Fantasy', 'Foreign', 'History',\n",
              "       'Horror', 'Music', 'Mystery', 'Romance', 'Science Fiction',\n",
              "       'TV Movie', 'Thriller', 'War', 'Western', 'none'], dtype=object)"
            ]
          },
          "metadata": {
            "tags": []
          },
          "execution_count": 45
        }
      ]
    },
    {
      "cell_type": "code",
      "metadata": {
        "id": "kDnDzwNRwhMd",
        "colab_type": "code",
        "colab": {}
      },
      "source": [
        "x=df_final['Genres'].values.reshape(-1, 1)"
      ],
      "execution_count": null,
      "outputs": []
    },
    {
      "cell_type": "code",
      "metadata": {
        "id": "aEhBxgcIwqRR",
        "colab_type": "code",
        "colab": {}
      },
      "source": [
        "y=df_final['rating'].values.reshape(-1, 1).astype(int)"
      ],
      "execution_count": null,
      "outputs": []
    },
    {
      "cell_type": "code",
      "metadata": {
        "id": "Q3Md2j9WAUwF",
        "colab_type": "code",
        "colab": {}
      },
      "source": [
        "X1_train, X1_test, y1_train, y1_test = train_test_split(\n",
        "...     x, y, test_size=0.33, random_state=42)"
      ],
      "execution_count": null,
      "outputs": []
    },
    {
      "cell_type": "code",
      "metadata": {
        "id": "RiiGEAs7AuAc",
        "colab_type": "code",
        "colab": {
          "base_uri": "https://localhost:8080/",
          "height": 35
        },
        "outputId": "308c731c-8c8a-4987-d80d-591e3036adf8"
      },
      "source": [
        "model2.fit(X1_train,y1_train)"
      ],
      "execution_count": null,
      "outputs": [
        {
          "output_type": "execute_result",
          "data": {
            "text/plain": [
              "LinearRegression(copy_X=True, fit_intercept=True, n_jobs=None, normalize=False)"
            ]
          },
          "metadata": {
            "tags": []
          },
          "execution_count": 87
        }
      ]
    },
    {
      "cell_type": "code",
      "metadata": {
        "id": "--BaMzikyt34",
        "colab_type": "code",
        "colab": {
          "base_uri": "https://localhost:8080/",
          "height": 145
        },
        "outputId": "0ada7119-4587-4f59-a717-e762e8d266ba"
      },
      "source": [
        "y2_pred=model2.predict(X1_test)\n",
        "y2_pred.astype(int)"
      ],
      "execution_count": null,
      "outputs": [
        {
          "output_type": "execute_result",
          "data": {
            "text/plain": [
              "array([[3],\n",
              "       [3],\n",
              "       [3],\n",
              "       ...,\n",
              "       [3],\n",
              "       [3],\n",
              "       [3]])"
            ]
          },
          "metadata": {
            "tags": []
          },
          "execution_count": 90
        }
      ]
    },
    {
      "cell_type": "code",
      "metadata": {
        "id": "gR6UCchhE0fe",
        "colab_type": "code",
        "colab": {
          "base_uri": "https://localhost:8080/",
          "height": 54
        },
        "outputId": "6b9676fa-0309-443c-c8e5-2d29818faaeb"
      },
      "source": [
        "import re  \n",
        "import nltk  \n",
        "nltk.download('stopwords') \n",
        "from nltk.corpus import stopwords \n",
        "from nltk.stem.porter import PorterStemmer"
      ],
      "execution_count": null,
      "outputs": [
        {
          "output_type": "stream",
          "text": [
            "[nltk_data] Downloading package stopwords to /root/nltk_data...\n",
            "[nltk_data]   Unzipping corpora/stopwords.zip.\n"
          ],
          "name": "stdout"
        }
      ]
    },
    {
      "cell_type": "code",
      "metadata": {
        "id": "Jt4JhCMVGjbd",
        "colab_type": "code",
        "colab": {}
      },
      "source": [
        "corpus = []  \n",
        "for i in range(0, 40415):  \n",
        "\n",
        "    review = re.sub('[^a-zA-Z]', ' ', df_final['overview'][i])  \n",
        "    \n",
        "    review = review.lower()  \n",
        "    review = review.split()  \n",
        "\n",
        "    ps = PorterStemmer()  \n",
        "      \n",
        "    # loop for stemming each word \n",
        "    # in string array at ith row     \n",
        "    review = [ps.stem(word) for word in review \n",
        "                if not word in set(stopwords.words('english'))]  \n",
        "                  \n",
        "    # rejoin all string array elements \n",
        "    # to create back into a string \n",
        "    review = ' '.join(review)   \n",
        "      \n",
        "    # append each string to create \n",
        "    # array of clean text  \n",
        "    corpus.append(review)"
      ],
      "execution_count": null,
      "outputs": []
    },
    {
      "cell_type": "code",
      "metadata": {
        "id": "4LQgvttsHbbH",
        "colab_type": "code",
        "colab": {}
      },
      "source": [
        "from sklearn.feature_extraction.text import CountVectorizer \n",
        "\n",
        "cv = CountVectorizer(max_features = 1500)  \n",
        "  \n",
        "# X contains corpus (dependent variable) \n",
        "X = cv.fit_transform(corpus).toarray() "
      ],
      "execution_count": null,
      "outputs": []
    },
    {
      "cell_type": "code",
      "metadata": {
        "id": "t8dVI6HLOfSH",
        "colab_type": "code",
        "colab": {}
      },
      "source": [
        "X1=df_final['Genres'].values.flatten()"
      ],
      "execution_count": null,
      "outputs": []
    },
    {
      "cell_type": "code",
      "metadata": {
        "id": "doVM5N87OxY7",
        "colab_type": "code",
        "colab": {
          "base_uri": "https://localhost:8080/",
          "height": 35
        },
        "outputId": "fb99c21f-3e4a-4526-86ff-eee77561ca7e"
      },
      "source": [
        "X1.size"
      ],
      "execution_count": null,
      "outputs": [
        {
          "output_type": "execute_result",
          "data": {
            "text/plain": [
              "40415"
            ]
          },
          "metadata": {
            "tags": []
          },
          "execution_count": 54
        }
      ]
    },
    {
      "cell_type": "code",
      "metadata": {
        "id": "maLU3K6KL3Ed",
        "colab_type": "code",
        "colab": {
          "base_uri": "https://localhost:8080/",
          "height": 35
        },
        "outputId": "726e409a-6768-4c0e-c9df-c6d978f948ec"
      },
      "source": [
        "X.size"
      ],
      "execution_count": null,
      "outputs": [
        {
          "output_type": "execute_result",
          "data": {
            "text/plain": [
              "60622500"
            ]
          },
          "metadata": {
            "tags": []
          },
          "execution_count": 119
        }
      ]
    },
    {
      "cell_type": "code",
      "metadata": {
        "id": "xwJi05ePNldc",
        "colab_type": "code",
        "colab": {}
      },
      "source": [
        "y=df_final['rating'].astype(int)"
      ],
      "execution_count": null,
      "outputs": []
    },
    {
      "cell_type": "code",
      "metadata": {
        "id": "dCGldCaUN7Cy",
        "colab_type": "code",
        "colab": {}
      },
      "source": [
        "X_train, X_test, y_train, y_test = train_test_split(\n",
        "...     X, y, test_size=0.33, random_state=42)"
      ],
      "execution_count": null,
      "outputs": []
    },
    {
      "cell_type": "code",
      "metadata": {
        "id": "ZTS_DOpiOBGK",
        "colab_type": "code",
        "colab": {
          "base_uri": "https://localhost:8080/",
          "height": 163
        },
        "outputId": "c8a5a56d-96f5-4b6d-c87a-37d96aefe8cc"
      },
      "source": [
        "from sklearn.ensemble import RandomForestClassifier \n",
        "  \n",
        "# n_estimators can be said as number of \n",
        "# trees, experiment with n_estimators \n",
        "# to get better results  \n",
        "model = RandomForestClassifier(n_estimators = 501, \n",
        "                            criterion = 'entropy') \n",
        "                              \n",
        "model.fit(X_train, y_train) "
      ],
      "execution_count": null,
      "outputs": [
        {
          "output_type": "execute_result",
          "data": {
            "text/plain": [
              "RandomForestClassifier(bootstrap=True, ccp_alpha=0.0, class_weight=None,\n",
              "                       criterion='entropy', max_depth=None, max_features='auto',\n",
              "                       max_leaf_nodes=None, max_samples=None,\n",
              "                       min_impurity_decrease=0.0, min_impurity_split=None,\n",
              "                       min_samples_leaf=1, min_samples_split=2,\n",
              "                       min_weight_fraction_leaf=0.0, n_estimators=501,\n",
              "                       n_jobs=None, oob_score=False, random_state=None,\n",
              "                       verbose=0, warm_start=False)"
            ]
          },
          "metadata": {
            "tags": []
          },
          "execution_count": 120
        }
      ]
    },
    {
      "cell_type": "code",
      "metadata": {
        "id": "5H8wkUYRZ9ll",
        "colab_type": "code",
        "colab": {}
      },
      "source": [
        "y_pred = model.predict(X_test) \n",
        "  "
      ],
      "execution_count": null,
      "outputs": []
    },
    {
      "cell_type": "code",
      "metadata": {
        "id": "pdaopzLrwO5R",
        "colab_type": "code",
        "colab": {
          "base_uri": "https://localhost:8080/",
          "height": 145
        },
        "outputId": "3ccb4d85-d5ac-41b8-9755-2a6c13348d2c"
      },
      "source": [
        "y_pred.reshape(-1,1)"
      ],
      "execution_count": null,
      "outputs": [
        {
          "output_type": "execute_result",
          "data": {
            "text/plain": [
              "array([[4],\n",
              "       [3],\n",
              "       [4],\n",
              "       ...,\n",
              "       [4],\n",
              "       [4],\n",
              "       [4]])"
            ]
          },
          "metadata": {
            "tags": []
          },
          "execution_count": 133
        }
      ]
    },
    {
      "cell_type": "code",
      "metadata": {
        "id": "7zErK_qLzVgz",
        "colab_type": "code",
        "colab": {
          "base_uri": "https://localhost:8080/",
          "height": 145
        },
        "outputId": "3f3b476c-6bf6-4ae7-d1d7-7d38098e54d3"
      },
      "source": [
        "y2_pred.reshape(-1,1)"
      ],
      "execution_count": null,
      "outputs": [
        {
          "output_type": "execute_result",
          "data": {
            "text/plain": [
              "array([[3.49473139],\n",
              "       [3.47085436],\n",
              "       [3.49473139],\n",
              "       ...,\n",
              "       [3.48677238],\n",
              "       [3.38330529],\n",
              "       [3.48677238]])"
            ]
          },
          "metadata": {
            "tags": []
          },
          "execution_count": 135
        }
      ]
    },
    {
      "cell_type": "code",
      "metadata": {
        "id": "6I5KBhC2F_As",
        "colab_type": "code",
        "colab": {}
      },
      "source": [
        "arr = np.column_stack((y_pred,y2_pred))"
      ],
      "execution_count": null,
      "outputs": []
    },
    {
      "cell_type": "code",
      "metadata": {
        "id": "MgPVQEFI16YL",
        "colab_type": "code",
        "colab": {}
      },
      "source": [
        "Xfinal= pd.DataFrame(data=arr, columns=[\"column1\", \"column2\"])"
      ],
      "execution_count": null,
      "outputs": []
    },
    {
      "cell_type": "code",
      "metadata": {
        "id": "PZ0RD9bJHAgH",
        "colab_type": "code",
        "colab": {
          "base_uri": "https://localhost:8080/",
          "height": 407
        },
        "outputId": "d7f96278-fd0a-46b8-c2ce-d7751793332e"
      },
      "source": [
        "Xfinal"
      ],
      "execution_count": null,
      "outputs": [
        {
          "output_type": "execute_result",
          "data": {
            "text/html": [
              "<div>\n",
              "<style scoped>\n",
              "    .dataframe tbody tr th:only-of-type {\n",
              "        vertical-align: middle;\n",
              "    }\n",
              "\n",
              "    .dataframe tbody tr th {\n",
              "        vertical-align: top;\n",
              "    }\n",
              "\n",
              "    .dataframe thead th {\n",
              "        text-align: right;\n",
              "    }\n",
              "</style>\n",
              "<table border=\"1\" class=\"dataframe\">\n",
              "  <thead>\n",
              "    <tr style=\"text-align: right;\">\n",
              "      <th></th>\n",
              "      <th>column1</th>\n",
              "      <th>column2</th>\n",
              "    </tr>\n",
              "  </thead>\n",
              "  <tbody>\n",
              "    <tr>\n",
              "      <th>0</th>\n",
              "      <td>4.0</td>\n",
              "      <td>3.494731</td>\n",
              "    </tr>\n",
              "    <tr>\n",
              "      <th>1</th>\n",
              "      <td>3.0</td>\n",
              "      <td>3.470854</td>\n",
              "    </tr>\n",
              "    <tr>\n",
              "      <th>2</th>\n",
              "      <td>4.0</td>\n",
              "      <td>3.494731</td>\n",
              "    </tr>\n",
              "    <tr>\n",
              "      <th>3</th>\n",
              "      <td>4.0</td>\n",
              "      <td>3.446977</td>\n",
              "    </tr>\n",
              "    <tr>\n",
              "      <th>4</th>\n",
              "      <td>3.0</td>\n",
              "      <td>3.446977</td>\n",
              "    </tr>\n",
              "    <tr>\n",
              "      <th>...</th>\n",
              "      <td>...</td>\n",
              "      <td>...</td>\n",
              "    </tr>\n",
              "    <tr>\n",
              "      <th>13332</th>\n",
              "      <td>3.0</td>\n",
              "      <td>3.446977</td>\n",
              "    </tr>\n",
              "    <tr>\n",
              "      <th>13333</th>\n",
              "      <td>4.0</td>\n",
              "      <td>3.446977</td>\n",
              "    </tr>\n",
              "    <tr>\n",
              "      <th>13334</th>\n",
              "      <td>4.0</td>\n",
              "      <td>3.486772</td>\n",
              "    </tr>\n",
              "    <tr>\n",
              "      <th>13335</th>\n",
              "      <td>4.0</td>\n",
              "      <td>3.383305</td>\n",
              "    </tr>\n",
              "    <tr>\n",
              "      <th>13336</th>\n",
              "      <td>4.0</td>\n",
              "      <td>3.486772</td>\n",
              "    </tr>\n",
              "  </tbody>\n",
              "</table>\n",
              "<p>13337 rows × 2 columns</p>\n",
              "</div>"
            ],
            "text/plain": [
              "       column1   column2\n",
              "0          4.0  3.494731\n",
              "1          3.0  3.470854\n",
              "2          4.0  3.494731\n",
              "3          4.0  3.446977\n",
              "4          3.0  3.446977\n",
              "...        ...       ...\n",
              "13332      3.0  3.446977\n",
              "13333      4.0  3.446977\n",
              "13334      4.0  3.486772\n",
              "13335      4.0  3.383305\n",
              "13336      4.0  3.486772\n",
              "\n",
              "[13337 rows x 2 columns]"
            ]
          },
          "metadata": {
            "tags": []
          },
          "execution_count": 139
        }
      ]
    },
    {
      "cell_type": "code",
      "metadata": {
        "id": "ge1q4OjA7vFA",
        "colab_type": "code",
        "colab": {}
      },
      "source": [
        "Xfinal_train, Xfinal_test, yfinal_train, yfinal_test = train_test_split(\n",
        "...     Xfinal, y_test, test_size=0.33, random_state=42)"
      ],
      "execution_count": null,
      "outputs": []
    },
    {
      "cell_type": "code",
      "metadata": {
        "id": "39-bEpYs8pvW",
        "colab_type": "code",
        "colab": {}
      },
      "source": [
        "model_final=LinearRegression()"
      ],
      "execution_count": null,
      "outputs": []
    },
    {
      "cell_type": "code",
      "metadata": {
        "id": "3xh08qp2H433",
        "colab_type": "code",
        "colab": {
          "base_uri": "https://localhost:8080/",
          "height": 35
        },
        "outputId": "a97b3976-a437-4c13-8e50-4b882c6786f3"
      },
      "source": [
        "model_final.fit(Xfinal_train,yfinal_train)"
      ],
      "execution_count": null,
      "outputs": [
        {
          "output_type": "execute_result",
          "data": {
            "text/plain": [
              "LinearRegression(copy_X=True, fit_intercept=True, n_jobs=None, normalize=False)"
            ]
          },
          "metadata": {
            "tags": []
          },
          "execution_count": 144
        }
      ]
    },
    {
      "cell_type": "code",
      "metadata": {
        "id": "ij0I0lrmIC3n",
        "colab_type": "code",
        "colab": {}
      },
      "source": [
        "Yfinal_pred=model_final.predict(Xfinal_test)"
      ],
      "execution_count": null,
      "outputs": []
    },
    {
      "cell_type": "code",
      "metadata": {
        "id": "iFRdvefFIKif",
        "colab_type": "code",
        "colab": {
          "base_uri": "https://localhost:8080/",
          "height": 35
        },
        "outputId": "7b16bdfa-2f8d-49e4-fb80-d6ee26d32efc"
      },
      "source": [
        "Yfinal_pred.astype(int)"
      ],
      "execution_count": null,
      "outputs": [
        {
          "output_type": "execute_result",
          "data": {
            "text/plain": [
              "array([2, 3, 3, ..., 3, 3, 3])"
            ]
          },
          "metadata": {
            "tags": []
          },
          "execution_count": 148
        }
      ]
    },
    {
      "cell_type": "code",
      "metadata": {
        "id": "KQZWoRIPIrxV",
        "colab_type": "code",
        "colab": {}
      },
      "source": [
        "pd.DataFrame(Yfinal_pred).to_csv('pred_final.csv')"
      ],
      "execution_count": null,
      "outputs": []
    },
    {
      "cell_type": "code",
      "metadata": {
        "id": "GuJLEZFuKZCh",
        "colab_type": "code",
        "colab": {}
      },
      "source": [
        ""
      ],
      "execution_count": null,
      "outputs": []
    }
  ]
}